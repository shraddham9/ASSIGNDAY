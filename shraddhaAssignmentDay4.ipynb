{
  "nbformat": 4,
  "nbformat_minor": 0,
  "metadata": {
    "colab": {
      "name": "shraddhaAssignmentDay4.ipynb",
      "provenance": []
    },
    "kernelspec": {
      "name": "python3",
      "display_name": "Python 3"
    }
  },
  "cells": [
    {
      "cell_type": "code",
      "metadata": {
        "id": "Y4wNhiI-Qv6f",
        "colab_type": "code",
        "colab": {}
      },
      "source": [
        "##comments\n",
        "#assignmentDay4\n",
        "#python program to check if the number is an Armstrong number or not "
      ],
      "execution_count": null,
      "outputs": []
    },
    {
      "cell_type": "code",
      "metadata": {
        "id": "hJo6BwHhR1gA",
        "colab_type": "code",
        "colab": {
          "base_uri": "https://localhost:8080/",
          "height": 51
        },
        "outputId": "51181be9-4a65-46d8-9afd-7883f21187e7"
      },
      "source": [
        "num = int(input(\"Enter number - \" ))\n",
        "sum = 0\n",
        "marks = num\n",
        "while marks > 0:\n",
        "  digit = marks % 10\n",
        "  sum += digit ** 3\n",
        "  marks //= 10\n",
        "if num == sum:\n",
        "  print(num,\"is an Armstrong number\")\n",
        "else:\n",
        "  print(num,\"is not an Armstrong number \")"
      ],
      "execution_count": 2,
      "outputs": [
        {
          "output_type": "stream",
          "text": [
            "Enter number - 457\n",
            "457 is not an Armstrong number \n"
          ],
          "name": "stdout"
        }
      ]
    },
    {
      "cell_type": "code",
      "metadata": {
        "id": "0KYrqP-eUqLR",
        "colab_type": "code",
        "colab": {
          "base_uri": "https://localhost:8080/",
          "height": 51
        },
        "outputId": "e2821347-e0a9-40b5-9390-832916059796"
      },
      "source": [
        "num = int(input(\"Enter number - \" ))\n",
        "sum = 0\n",
        "marks = num\n",
        "while marks > 0:\n",
        "  digit = marks % 10\n",
        "  sum += digit ** 3\n",
        "  marks //= 10\n",
        "if num == sum:\n",
        "  print(num,\"is an Armstrong number\")\n",
        "else:\n",
        "  print(num,\"is not an Armstrong number \")"
      ],
      "execution_count": 3,
      "outputs": [
        {
          "output_type": "stream",
          "text": [
            "Enter number - 407\n",
            "407 is an Armstrong number\n"
          ],
          "name": "stdout"
        }
      ]
    }
  ]
}